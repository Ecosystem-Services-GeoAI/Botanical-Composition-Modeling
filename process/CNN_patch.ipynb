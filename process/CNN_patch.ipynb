{
 "cells": [
  {
   "cell_type": "code",
   "execution_count": 1,
   "metadata": {},
   "outputs": [
    {
     "name": "stderr",
     "output_type": "stream",
     "text": [
      "c:\\Users\\zhou.tang\\software\\anaconda3\\envs\\SOC_test\\lib\\site-packages\\geopandas\\_compat.py:124: UserWarning: The Shapely GEOS version (3.8.0-CAPI-1.13.1) is incompatible with the GEOS version PyGEOS was compiled with (3.10.4-CAPI-1.16.2). Conversions between both will be slow.\n",
      "  warnings.warn(\n",
      "C:\\Users\\zhou.tang\\AppData\\Local\\Temp\\ipykernel_8848\\1790777514.py:2: DeprecationWarning: Shapely 2.0 is installed, but because PyGEOS is also installed, GeoPandas still uses PyGEOS by default. However, starting with version 0.14, the default will switch to Shapely. To force to use Shapely 2.0 now, you can either uninstall PyGEOS or set the environment variable USE_PYGEOS=0. You can do this before starting the Python process, or in your code before importing geopandas:\n",
      "\n",
      "import os\n",
      "os.environ['USE_PYGEOS'] = '0'\n",
      "import geopandas\n",
      "\n",
      "In the next release, GeoPandas will switch to using Shapely by default, even if PyGEOS is installed. If you only have PyGEOS installed to get speed-ups, this switch should be smooth. However, if you are using PyGEOS directly (calling PyGEOS functions on geometries from GeoPandas), this will then stop working and you are encouraged to migrate from PyGEOS to Shapely 2.0 (https://shapely.readthedocs.io/en/latest/migration_pygeos.html).\n",
      "  import geopandas as gpd\n"
     ]
    }
   ],
   "source": [
    "import rasterio\n",
    "import geopandas as gpd\n",
    "import numpy as np\n",
    "from sklearn.neural_network import MLPClassifier\n",
    "from sklearn.model_selection import train_test_split\n",
    "from sklearn.metrics import accuracy_score\n",
    "from sklearn.preprocessing import StandardScaler\n",
    "\n",
    "from shapely.geometry import mapping\n",
    "import matplotlib.pyplot as plt\n",
    "from sklearn.naive_bayes import GaussianNB\n",
    "from rasterio.plot import reshape_as_raster, reshape_as_image\n",
    "\n",
    "from sklearn.ensemble import RandomForestClassifier\n",
    "from sklearn.model_selection import train_test_split\n",
    "from sklearn.metrics import accuracy_score\n",
    "from sklearn.preprocessing import MinMaxScaler, StandardScaler\n",
    "\n",
    "from sklearn.model_selection import cross_val_score\n",
    "from rasterio.enums import Resampling\n",
    "from rasterio.warp import reproject\n",
    "from rasterio.windows import Window\n",
    "\n",
    "import torch\n",
    "import torch.nn as nn\n",
    "import torch.optim as optim\n",
    "import torchvision.models as models\n",
    "import torchvision.transforms as transforms\n",
    "from torch.utils.data import DataLoader, Dataset\n",
    "from sklearn.model_selection import train_test_split\n",
    "\n",
    "import os\n",
    "import csv\n",
    "from rasterio.merge import merge\n",
    "from collections import defaultdict\n",
    "import pandas as pd\n"
   ]
  },
  {
   "cell_type": "code",
   "execution_count": 2,
   "metadata": {},
   "outputs": [],
   "source": [
    "def getPatchWithCsv(gps_csv, tif, patch_size, outfolder, month=\"July\"):\n",
    "    gps_csv = pd.read_csv(gps_csv)\n",
    "    print(gps_csv.shape)\n",
    "\n",
    "    gps_csv = gps_csv[gps_csv['Date'] == month].reset_index(drop=True)\n",
    "    print(gps_csv.shape)\n",
    "    lat_list = gps_csv['lat']\n",
    "    lon_list = gps_csv['lon']\n",
    "    folder_list = gps_csv['folder']\n",
    "    class_list = gps_csv['class']\n",
    "    print(lat_list)\n",
    "    with rasterio.open(tif) as dataset:\n",
    "        for i in range(len(lat_list)):\n",
    "            p_lon = lon_list[i]\n",
    "            p_lat = lat_list[i]\n",
    "            fd = folder_list[i]\n",
    "            cls = class_list[i]\n",
    "            # clip\n",
    "            py, px = dataset.index(p_lon, p_lat)\n",
    "            window = rasterio.windows.Window(px - patch_size//2, py - patch_size//2, patch_size, patch_size)\n",
    "            clip = dataset.read(window=window)\n",
    "            # clip = clip/max_value\n",
    "            clip = clip[0:6,:,:]\n",
    "            # print(f\"clip shape is {clip.shape}\")\n",
    "            has_nan = np.isnan(clip)\n",
    "            \n",
    "            if not np.any(has_nan):\n",
    "                # meta data update\n",
    "                transform = rasterio.windows.transform(window, dataset.transform)\n",
    "                meta = dataset.meta.copy()\n",
    "                meta.update({\n",
    "                    'width': patch_size,\n",
    "                    'height': patch_size,\n",
    "                    'transform': transform,\n",
    "                    'count': 6\n",
    "                })\n",
    "\n",
    "                # save clip\n",
    "                out_tif = f\"{fd}_{month}_{cls}_{str(p_lon)}_{str(p_lat)}_{patch_size}.tif\"\n",
    "                # clip_max = np.nanmax(clip)\n",
    "                # clip = clip/clip_max\n",
    "                \n",
    "                out_tif = os.path.join(outfolder, out_tif)\n",
    "                with rasterio.open(out_tif, 'w', **meta) as dst:\n",
    "                    dst.write(clip)\n",
    "            else:\n",
    "                print(f\"out tif name is {out_tif}\")\n",
    "\n"
   ]
  },
  {
   "cell_type": "code",
   "execution_count": 39,
   "metadata": {},
   "outputs": [
    {
     "name": "stdout",
     "output_type": "stream",
     "text": [
      "(554, 17)\n",
      "(355, 17)\n",
      "0      30.877230\n",
      "1      30.877097\n",
      "2      30.876685\n",
      "3      30.874522\n",
      "4      30.876941\n",
      "         ...    \n",
      "350    30.876380\n",
      "351    30.876701\n",
      "352    30.876348\n",
      "353    30.874737\n",
      "354    30.876701\n",
      "Name: lat, Length: 355, dtype: float64\n"
     ]
    }
   ],
   "source": [
    "gps_csv = \"./data/all_data_two_date_gps_vi_savi_filter_0.9_split.csv\"\n",
    "tif = \"./data/Modeling_data_7-26-2024/All_Paddock_26_JUL_2024_ortho_bgrent.tiff\"\n",
    "patch_size = 224\n",
    "outfolder = \"./data/patch\"\n",
    "month=\"July\"\n",
    "getPatchWithCsv(gps_csv=gps_csv, tif=tif,patch_size=patch_size,outfolder=outfolder,month=month)"
   ]
  },
  {
   "cell_type": "code",
   "execution_count": 40,
   "metadata": {},
   "outputs": [
    {
     "name": "stdout",
     "output_type": "stream",
     "text": [
      "(554, 17)\n",
      "(199, 17)\n",
      "0      30.874566\n",
      "1      30.875349\n",
      "2      30.874751\n",
      "3      30.876414\n",
      "4      30.876062\n",
      "         ...    \n",
      "194    30.875447\n",
      "195    30.876806\n",
      "196    30.875577\n",
      "197    30.876953\n",
      "198    30.875355\n",
      "Name: lat, Length: 199, dtype: float64\n"
     ]
    }
   ],
   "source": [
    "gps_csv = \"./data/all_data_two_date_gps_vi_savi_filter_0.9_split.csv\"\n",
    "tif = \"./data/Modeling_data_09-22-2024/All_Paddock_22_SEP_2024_ortho_bgrent.tiff\"\n",
    "patch_size = 224\n",
    "outfolder = \"./data/patch\"\n",
    "month=\"Sep\"\n",
    "getPatchWithCsv(gps_csv=gps_csv, tif=tif,patch_size=patch_size,outfolder=outfolder,month=month)"
   ]
  },
  {
   "cell_type": "code",
   "execution_count": 5,
   "metadata": {},
   "outputs": [
    {
     "name": "stdout",
     "output_type": "stream",
     "text": [
      "(554, 17)\n",
      "(199, 17)\n",
      "0      30.874566\n",
      "1      30.875349\n",
      "2      30.874751\n",
      "3      30.876414\n",
      "4      30.876062\n",
      "         ...    \n",
      "194    30.875447\n",
      "195    30.876806\n",
      "196    30.875577\n",
      "197    30.876953\n",
      "198    30.875355\n",
      "Name: lat, Length: 199, dtype: float64\n"
     ]
    }
   ],
   "source": [
    "gps_csv = \"../data/all_data_two_date_gps_vi_savi_filter_0.9_split.csv\"\n",
    "tif = \"../data/Modeling_data_09-22-2024/All_Paddock_22_SEP_2024_ortho_bgrent.tiff\"\n",
    "patch_size = 20\n",
    "outfolder = \"../data/patch_20\"\n",
    "month=\"Sep\"\n",
    "getPatchWithCsv(gps_csv=gps_csv, tif=tif,patch_size=patch_size,outfolder=outfolder,month=month)"
   ]
  },
  {
   "cell_type": "code",
   "execution_count": 7,
   "metadata": {},
   "outputs": [
    {
     "name": "stdout",
     "output_type": "stream",
     "text": [
      "(554, 17)\n",
      "(355, 17)\n",
      "0      30.877230\n",
      "1      30.877097\n",
      "2      30.876685\n",
      "3      30.874522\n",
      "4      30.876941\n",
      "         ...    \n",
      "350    30.876380\n",
      "351    30.876701\n",
      "352    30.876348\n",
      "353    30.874737\n",
      "354    30.876701\n",
      "Name: lat, Length: 355, dtype: float64\n"
     ]
    }
   ],
   "source": [
    "gps_csv = \"../data/all_data_two_date_gps_vi_savi_filter_0.9_split.csv\"\n",
    "tif = \"../data/Modeling_data_7-26-2024/All_Paddock_26_JUL_2024_ortho_bgrent.tiff\"\n",
    "patch_size = 20\n",
    "outfolder = \"../data/patch_20\"\n",
    "month=\"July\"\n",
    "getPatchWithCsv(gps_csv=gps_csv, tif=tif,patch_size=patch_size,outfolder=outfolder,month=month)"
   ]
  },
  {
   "cell_type": "code",
   "execution_count": 8,
   "metadata": {},
   "outputs": [
    {
     "name": "stdout",
     "output_type": "stream",
     "text": [
      "(554, 17)\n",
      "(355, 17)\n",
      "0      30.877230\n",
      "1      30.877097\n",
      "2      30.876685\n",
      "3      30.874522\n",
      "4      30.876941\n",
      "         ...    \n",
      "350    30.876380\n",
      "351    30.876701\n",
      "352    30.876348\n",
      "353    30.874737\n",
      "354    30.876701\n",
      "Name: lat, Length: 355, dtype: float64\n",
      "(554, 17)\n",
      "(199, 17)\n",
      "0      30.874566\n",
      "1      30.875349\n",
      "2      30.874751\n",
      "3      30.876414\n",
      "4      30.876062\n",
      "         ...    \n",
      "194    30.875447\n",
      "195    30.876806\n",
      "196    30.875577\n",
      "197    30.876953\n",
      "198    30.875355\n",
      "Name: lat, Length: 199, dtype: float64\n"
     ]
    }
   ],
   "source": [
    "gps_csv = \"../data/all_data_two_date_gps_vi_savi_filter_0.9_split.csv\"\n",
    "tif = \"../data/Modeling_data_7-26-2024/All_Paddock_26_JUL_2024_ortho_bgrent.tiff\"\n",
    "patch_size = 50\n",
    "outfolder = \"../data/patch_50\"\n",
    "month=\"July\"\n",
    "getPatchWithCsv(gps_csv=gps_csv, tif=tif,patch_size=patch_size,outfolder=outfolder,month=month)\n",
    "\n",
    "\n",
    "tif = \"../data/Modeling_data_09-22-2024/All_Paddock_22_SEP_2024_ortho_bgrent.tiff\"\n",
    "month=\"Sep\"\n",
    "getPatchWithCsv(gps_csv=gps_csv, tif=tif,patch_size=patch_size,outfolder=outfolder,month=month)"
   ]
  }
 ],
 "metadata": {
  "kernelspec": {
   "display_name": "SOC_test",
   "language": "python",
   "name": "python3"
  },
  "language_info": {
   "codemirror_mode": {
    "name": "ipython",
    "version": 3
   },
   "file_extension": ".py",
   "mimetype": "text/x-python",
   "name": "python",
   "nbconvert_exporter": "python",
   "pygments_lexer": "ipython3",
   "version": "3.8.18"
  }
 },
 "nbformat": 4,
 "nbformat_minor": 2
}
